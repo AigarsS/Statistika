{
 "cells": [
  {
   "cell_type": "markdown",
   "metadata": {},
   "source": [
    "# <center><b>Statistiskie testi</b></center>\n",
    "## 1. Vispārīgi\n",
    "Satistisko testi nodoršina mehānismu kā pieņemt kvantitatīvus lēmumus par procesu vai procesiem. Statistiskā testa mērķis ir noteikt, vai ir pietiekami daudz pierādījumu, lai noraidītu vai apsiprinātu <b>hipotēzi</b> par apsakatāmo procesu. Būtībā tiek novērsta nejaušības iespēja eksperimentā un noteikts tā derīgums saistībā ar apskatāmo notikumu. \n",
    "<p><u>Piemēram</u>, tiek pētīta smēķēšanas ietekme saistībā ar plaušu vēža gadījumiem. Paņemot mazu grupu, var izskatīties, ka starp šiem datiem nav nekādas saistības. Taču var izrādīties, ka tā ir tikai sakritība, un šāds secinājums nevar tikt attiecināts uz ģenerālo kopu. Lai novērstu šo nejaušības iespēju un palielinātu datu ticamību izvirzītajai hipotēzei tiek piemēroti statisko hipotēžu testi.</p>\n",
    "<b>Hipotēze</b> ir zinātnisks pieņēmums, kas ir loģisks un ticams, bet prasa pārbaudi un pierādījumu. <br>\n",
    "<b>Statistiskā hipotēze</b> ir pieņēmums par staistiskās kopas vai divu kopu īpašībām. <br> \n",
    "Lai veiktu statistiskās hipotēzes testu:\n",
    "\n",
    "- Formulē nulles hipotēzi $H_0$, kur nulles hipotēze ir apgalvojums (statistiska) hioptēze, ko pierāda kādi pagātnes fakti un tā varētu būt patiesa jebkurā gadījuma situācijā.\n",
    "- Izvirza alternatīvo hipotēzi $H_a$, kas ir hulles hipotēzei pretējs apgalvojums\n",
    "- Klasificē hipotēžu testu kā divdaļīgu ($H_a:\\mu\\neq\\mu_0$), kreisi dalītu ($H_a:\\mu<\\mu_0$) vai labi dalītu ($H_a:\\mu>\\mu_0$):\n",
    "- Izvēlas nozīmīguma līmeni $\\alpha$ - izmanto ticamības intervāla noteikšanai pārbaudāmajai vērtībai\n",
    "- Izvēlas nejaušu izlasi\n",
    "- Pārbauda izlases attiecīgo parametru\n",
    "\n",
    "Vispārīgi pastāv daudz dažādu statistiko testu, taču pazīstamākie un biežāk izmantojamie ir:\n",
    "\n",
    "- T-tests izlasei uz ģenerālkopas vērtību\n",
    "- T-tests divām neatkarīgām izlasēm\n",
    "- Chi-tests izslases sadalījumam\n",
    "- Manna-Vitnija sadalījuma tests 2 neatkarīgām izlasēm\n",
    "- Chi-tests neatkarības noteikšanai nominālās vai kārtas skalas mainīgajiem\n",
    "\n",
    "## 2. Ticamības intervāls\n",
    "\n"
   ]
  },
  {
   "cell_type": "code",
   "execution_count": null,
   "metadata": {},
   "outputs": [],
   "source": []
  },
  {
   "cell_type": "code",
   "execution_count": null,
   "metadata": {},
   "outputs": [],
   "source": []
  }
 ],
 "metadata": {
  "kernelspec": {
   "display_name": "Python 3",
   "language": "python",
   "name": "python3"
  },
  "language_info": {
   "codemirror_mode": {
    "name": "ipython",
    "version": 3
   },
   "file_extension": ".py",
   "mimetype": "text/x-python",
   "name": "python",
   "nbconvert_exporter": "python",
   "pygments_lexer": "ipython3",
   "version": "3.8.1"
  }
 },
 "nbformat": 4,
 "nbformat_minor": 4
}
