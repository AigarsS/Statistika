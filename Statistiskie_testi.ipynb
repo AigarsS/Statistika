{
 "cells": [
  {
   "cell_type": "markdown",
   "metadata": {},
   "source": [
    "# <center><b>Statistiskie testi</b></center>\n",
    "## 1. Vispārīgi\n",
    "Satistiskie testi nodoršina mehānismu kā pieņemt kvantitatīvus lēmumus par procesu vai procesiem. Statistiskā testa mērķis ir noteikt, vai ir pietiekami daudz pierādījumu, lai noraidītu vai apsiprinātu <b>hipotēzi</b> par apsakatāmo procesu. Būtībā tiek novērsta nejaušības iespēja eksperimentā un noteikts tā derīgums saistībā ar apskatāmo notikumu.\n",
    "<p> <b>Piemērs.</b> Tiek pētīta smēķēšanas ietekme saistībā ar plaušu vēža gadījumiem. Paņemot mazu grupu, var izskatīties, ka starp šiem datiem nav nekādas saistības. Taču var izrādīties, ka tā ir tikai sakritība, un šāds secinājums nevar tikt attiecināts uz ģenerālo kopu. Lai novērstu šo nejaušības iespēju un palielinātu datu ticamību izvirzītajai hipotēzei tiek piemēroti statisko hipotēžu testi.</p>\n",
    "<b>Hipotēze</b> ir zinātnisks pieņēmums, kas ir loģisks un ticams, bet prasa pārbaudi un pierādījumu. <br>\n",
    "<b>Statistiskā hipotēze</b> ir pieņēmums par staistiskās kopas vai divu kopu īpašībām. <br> \n",
    "Lai veiktu statistiskās hipotēzes testu:\n",
    "\n",
    "- Formulē nulles hipotēzi $H_0$, kur nulles hipotēze ir apgalvojums (statistiska) hioptēze, ko pierāda kādi pagātnes fakti un tā varētu būt patiesa jebkurā gadījuma situācijā.\n",
    "- Izvirza alternatīvo hipotēzi $H_a$, kas ir hulles hipotēzei pretējs apgalvojums\n",
    "- Klasificē hipotēžu testu kā divdaļīgu ($H_a:\\mu_\\pm zS_x\\neq\\mu_0$), kreisi dalītu ($H_a:\\mu<\\mu_0$) vai labi dalītu ($H_a:\\mu>\\mu_0$):\n",
    "- Izvēlas nozīmīguma līmeni $\\alpha$ - izmanto ticamības intervāla noteikšanai pārbaudāmajai vērtībai\n",
    "- Izvēlas nejaušu izlasi\n",
    "- Pārbauda izlases attiecīgo parametru\n",
    "\n",
    "Statistiskās hipotēzes pārbauda izmantojot izlases datus tāpēc pastāv iespēja, ka secinājumi var būt kļūdaini. Izšķir I un II veida kļūdas:\n",
    "\n",
    "|Iespējamais slēdziens|$H_0$ patiesa| $H_0$ nepatiesa|\n",
    "|---|---|---|\n",
    "|Apstiprina $H_0$|Korekts slēdziens| II tipa kļūda|\n",
    "|Noraida $H_0$|I tipa kļūda| Korekts slēdziens|\n",
    "\n",
    "**I veida** kļūda rodas tad, kad nulles hipotēze ir patiesa, taču tiek noraidīta. Savukārt **II veida** kļūda rodas tad, kad nulles hipotēze tiek apstiprināta taču ir nepatiesa.<br>\n",
    "Pastāv daudz dažādu statistiko testu, taču pazīstamākie un biežāk izmantojamie ir:\n",
    "\n",
    "- T-tests izlasei uz ģenerālkopas vērtību\n",
    "- T-tests divām neatkarīgām izlasēm\n",
    "- Chi kvadrāta tests izlases sadalījumam\n",
    "- Manna-Vitnija sadalījuma tests 2 neatkarīgām izlasēm\n",
    "- Chi kvadrāta tests neatkarības noteikšanai nominālās vai kārtas skalas mainīgajiem\n",
    "\n",
    "## 2. Ticamības intervāls\n",
    "\n",
    "Ticamības intervālu izmanto divdaļīgu hipotēžu pārbaudei. Lai pārbaudītu vērtību ticamības intervālā, vispirms, izmantojot varbūtības sadalījumu, nosaka ticamības intervālu $100 \\times(1-\\alpha)%$, kur $\\alpha$ ir būtiskuma līmenis\n",
    "\n",
    "- Ja $H_0$ vērtība pieder ticamības intervālam, tad nulles hipotēzi nevar noraidīt\n",
    "- Ja $H_0$ vērtība atrodas ārpus ticamības intervāla, tad nulles hipotēzi noraida\n",
    "\n",
    "Ticamības intervāla kritiskās robežas aprēķina pēc formulas $X_{kr}=\\mu_0\\pm zS_x$. Kritiskās vērtības ir apstiprināšanas un noraidīšanas apgabla robežvērtības. <br>\n",
    "<p><u> Noraidīšanas apgabals</u> - tās ir statistiskās vērtības pie kurām noraida $H_0$, līdz ar to $H_0$ nepieder ticamības intervālam.<br>\n",
    "<u>Apstiprināšanas apgabals</u> - tās statistiskās vērtības, pie kurām apstiprina $H_0$, līdz ar to $H_0$ vērtība pieder ticamības intervālam. </p>\n",
    "Ticamības intervālu vidējam aritmētiskajam aprēķina pēc formulas:<br>\n",
    "$\\overline{X}-t_p \\frac{S_x}{\\sqrt{n}}\\leq\\mu\\leq\\overline{X}-t_p \\frac{S_x}{\\sqrt{n}}$, kur\n",
    "\n",
    "- $t_p = 1.96$ (ja $\\alpha=0.05$) salīzinoši lielai izlasei\n",
    "- $\\overline{X}$ ir izlases vidējais aritmētiskais\n",
    "- $n$ - vienību skaits izlasē\n",
    "- $S_x$ - izlases standartnovirze\n",
    "\n",
    "## 3. T-tests izlasei uz ģenerālkopas vērtību (T-testu grupa)\n",
    "\n",
    "Šo testu lieto tad, ja ir nepieciešams pārbaudīt vai izlases vērtības atbilst ģenerālajai kopai.\n",
    "Nulles hipotēze T-testa izlasei uz ģenerālkopas vērtību vienmēr ir formā:\n",
    "\n",
    "- $H_0:\\mu=\\mu_0$\n",
    "\n",
    "Un alternatīvā hipotēze var būt:\n",
    "\n",
    "- $H_a:\\mu<\\mu_0$ vai $H_a:\\mu>\\mu_0$ vai $H_a:\\mu\\neq \\mu_0$ \n",
    "\n",
    "Darba gaita veicot T-testu vidējam aritmētiskajam:\n",
    "\n",
    "1. Nosaka izlases vidējo aritmētisko un standartnovirzi\n",
    "2. Izvirza hipotēzes $H_0$ un $H_a$\n",
    "3. Nosaka brīvības pakāpes $d_f=n-1$, kur n ir izlases lielums\n",
    "4. Ja hipotēzes tests ir divdaļīgs, tad izmanto nozīmības līmeni $\\alpha/2$, ja kreisi dalīts vai labi dalīts tad izmanto $\\alpha$\n",
    "5. Atbilstoši noteiktajam $d_f$ un $\\alpha$ izvēlas atbilstošas kritiskās vērtības no T-testa vērtību tabulām\n",
    "6. Ja ir normālsadalījums, tad aprēķina kritiskās robežas pēc formulām: <br>\n",
    "ģenerālkopā $\\overline{X}\\pm z\\sigma_x$ vai izlasē $\\overline{X}\\pm zS_x$ <br>\n",
    "7. Ja izlases lielums n<30, tad normālsadalījuma vietā jālieto t sadalījums: <br>\n",
    "ģenerālkopā $\\overline{X}\\pm t_{df}\\sigma_x$ vai izlasē $\\overline{X}\\pm t_{df}S_x$\n",
    "8. Ja pārbaudāmā vērtība atrodas kritiskajās robežās, tad $H_0$ apstiprinās pie noteiktā nozīmības līmeņa, pretējā gadījumā tiek noraidīta. "
   ]
  },
  {
   "cell_type": "markdown",
   "metadata": {},
   "source": [
    "**Piemērs.** Eksperimentā vēlas noskaidrot vai 20 nejauši izvēlētiem 1. kursa studentiem vidējais asinsspiediens ir atbilstošs vispārīgi noteiktajam vidējam asinsspiedienam - 120. No 20 studentiem tika iegūti šādi mērījumu rezultāti 128, 127, 118, 115, 144, 142, 133, 140, 132, 131, 111, 132, 149, 122, 139, 119, 136, 129, 126, 128. Vai var apgalvot, ka ar 95% varbūtību vidējais asisnsspiediens 1. kursa studentiem neatšķiras no vispārīgā vidējā?<br>\n",
    "<u>Atrisinājums:</u><br>\n",
    "1) Vidējā vērtība izlasei $\\overline{X}=130.05$ un standartnovirze izlasei $S_x=9.708$<br>\n",
    "2) Hipotēzes $H_0:\\mu=120$ un $H_a:\\mu\\neq 120$<br>\n",
    "2) Brīvības pakāpes $d_f=20-1=19$<br>\n",
    "3) Nozīmības līmenis $\\alpha=0.05/2=0.025$<br>\n",
    "4) Kritiskā vērtība no T-tabulas $X_{kr}=2.093$\n",
    "5) Aprēķina t vērtību (izlases lielums n<30)<br>\n",
    "$t=\\frac{\\overline{X}-\\mu_0}{\\frac{S_x}{\\sqrt{n}}}=\\frac{130.05-120}{\\frac{9.708}{\\sqrt{20}}}=4.63$<br>\n",
    "6) Tā kā 4.63>2.093, tad $H_0$ tiek noraidīta, t.i. vidējais asinsspiediens 1. kursa studentiem nav statistiski vienāds ar vispārējo vidējo asinsspiedienu.\n",
    "\n",
    "Zemāk salīdzināšanai ir veikts aprēķins ar Python moduli scipy."
   ]
  },
  {
   "cell_type": "code",
   "execution_count": 65,
   "metadata": {},
   "outputs": [
    {
     "name": "stdout",
     "output_type": "stream",
     "text": [
      "Vidējā vērtība izlasei ir: 130.05\n",
      "Standartnovirze izlasei ir: 9.71\n",
      "Aprēķinātā t vērtība t=4.512\n",
      "Aprēķinātā p vērtība p=0.000\n",
      "H0 tiek noraidīts - 1. kursa studentu asinsspiediens nav statistiksi vienāds ar vispārējo vidējo\n"
     ]
    }
   ],
   "source": [
    "# Tiek importēts scipy modulis stats - statistisko testu veikšanai un numpy bibliotēka, lai izrēķinātu vidējo\n",
    "# vērtību un standartnovirzi\n",
    "from scipy import stats\n",
    "import numpy as np\n",
    "\n",
    "# Tiek definēts masīvs ar visām mērījumu vērtībām\n",
    "asinssp=[128, 127, 118, 115, 144, 142, 133, 140, 132, 131, 111, 132, 149, 122, 139, 119, 136, 129, 126, 128]\n",
    "\n",
    "#Vidējā vērtība un standartnovirze izlasei\n",
    "print(\"Vidējā vērtība izlasei ir: %.2f\" % np.mean(asinssp))\n",
    "print(\"Standartnovirze izlasei ir: %.2f\" % np.std(asinssp))\n",
    "\n",
    "# T-tests izlasei uz ģenerālkopas vērtību\n",
    "tvalue, pvalue = stats.ttest_1samp(asinssp, 120)\n",
    "print('Aprēķinātā t vērtība t=%.3f' % tvalue)\n",
    "print(\"Aprēķinātā p vērtība p=%.3f\" % pvalue)\n",
    "\n",
    "#Pārbaude vai aprēķinātā p vērtība atrodas nozīmības līmeņa 0.05 robežās un vai hipotēze tiek apstiprināta\n",
    "if (pvalue>=0.05):\n",
    "    print(\"H0 tiek apstiprināta - 1. kursa studentu asinsspiediens ir statistiski vienāds ar vispārējo vidējo\")\n",
    "else:\n",
    "    print (\"H0 tiek noraidīts - 1. kursa studentu asinsspiediens nav statistiksi vienāds ar vispārējo vidējo\")"
   ]
  },
  {
   "cell_type": "markdown",
   "metadata": {},
   "source": [
    "Salīzinot abus gadījumus var secināt, ka veiktie aprēķini ir pareizi.\n",
    "## 4. T-tests divām neatkarīgām izlasēm (T-testu grupa)\n",
    "Šo statistisko testu lieto, ja nepieciešams salīdzināt 2 dažādu kopu vidējie aritmētiskie.\n",
    "Nulles hipotēze vidējiem aritmētiskajiem vienmēr ir formā:\n",
    "\n",
    "- $H_0:\\mu=\\mu_0$\n",
    "\n",
    "Un alternatīvā hipotēze:\n",
    "\n",
    "- $H_a:\\mu\\neq \\mu_0$ \n",
    "\n",
    "Darba gaita veicot T-testu vidējam aritmētiskajam:\n",
    "\n",
    "1. Aprēķina vidējos aritmētiskos $\\overline{X_1}$ un $\\overline{X_2}$\n",
    "2. Aprēķina standartnovirzi:<br>\n",
    "$S=\\sqrt{\\frac{(n_1-1){S_1}^2+(n_2-1){S_2}^2}{n_1+n_2-2}}$, ja dotas ģenerālās kopas vērtības vispirms jārēķina standartnovirze izlasei $S_x=\\frac{\\sigma}{\\sqrt{n}}$\n",
    "1. Izvirza hipotēzes $H_0$ un $H_a$\n",
    "2. Nosaka brīvības pakāpes $d_f=n_1+n_2-2$, kur n ir izlases lielums\n",
    "4. Atbilstoši noteiktajam $d_f$ un $\\alpha$ izvēlas atbilstošas kritiskās vērtības no T-testa vērtību tabulām\n",
    "5. Aprēķina t (ja n<30) vai z (ja n>=30): <br>\n",
    "$S=\\frac{(\\overline{X_1}-\\overline{X_2})-(\\mu_1-\\mu_2)}{S\\sqrt{1/n_1+1/n_2}}$\n",
    "6. Ja pārbaudāmā vērtība atrodas kritiskajās robežās, tad $H_0$ apstiprinās pie noteiktā nozīmības līmeņa, pretējā gadījumā tiek noraidīta. "
   ]
  },
  {
   "cell_type": "markdown",
   "metadata": {},
   "source": [
    "**Piemērs.** Eksperimentā vēlas noskaidrot vai 20 nejauši izvēlētiem 1. kursa studentiem vidējais asinsspiediens ir statistiksi vienāds ar 2. kursa nejauši izvēlētiem 20 studentiem.<br>\n",
    "No 20 1. kursa studentiem tika iegūti šādi mērījumu rezultāti 128, 127, 118, 115, 144, 142, 133, 140, 132, 131, 111, 132, 149, 122, 139, 119, 136, 129, 126, 128.<br>\n",
    "No 20 2. kursa studentiem tika iegūti šādi mērījumu rezultāti 118, 115, 112, 120, 124, 130, 123, 110, 120, 121, 123, 125, 129, 130, 112, 117, 119, 120, 123, 128.<br>\n",
    "Vai var apgalvot, ka ar 95% varbūtību vidējais asisnsspiediens 1. kursa studentiem neatšķiras no 2. kursa studentu assinsspiediena?<br>\n",
    "<u>Atrisinājums:</u>\n",
    "1) Vidējās vērtības izlasei $\\overline{X_1}=130.05$ un $\\overline{X_2}=120.95$ <br>\n",
    "2) Standartnovirze izlasei $S_{x1}=9.71$ un $S_{x2}=5.76$<br>\n",
    "$S=\\sqrt{\\frac{(20-1){9.71}^2+(20-1){5.76}^2}{20+20-2}}=7.98$<br>\n",
    "2) Hipotēzes $H_0:\\mu=120$ un $H_a:\\mu\\neq 120$<br>\n",
    "2) Brīvības pakāpes $d_f=20+20-2=38$<br>\n",
    "3) Nozīmības līmenis $\\alpha=0.05/2=0.025$<br>\n",
    "4) Kritiskā vērtība no T-tabulas $X_{kr}=2.021$<br>\n",
    "5) Aprēķina t vērtību (izlases lielums n<30)<br>\n",
    "$t=\\frac{(130.05-120.95)-(0)}{7.98\\sqrt{1/20+1/20}}=3.60$<br>\n",
    "6) Tā kā 3.60>2.021, tad $H_0$ tiek noraidīta, t.i. vidējais asinsspiediens 1. kursa studentiem nav statistiski vienāds ar vidējo asinsspiedienu 2. kursa studentiem.\n",
    "\n",
    "Zemāk salīdzināšanai ir veikts aprēķins ar Python moduli scipy."
   ]
  },
  {
   "cell_type": "code",
   "execution_count": 66,
   "metadata": {},
   "outputs": [
    {
     "name": "stdout",
     "output_type": "stream",
     "text": [
      "1. izlases vidējā vērtība ir: 130.05\n",
      "1. izlases standartnovirze ir: 9.71\n",
      "2. izlases vidējā vērtība ir: 120.95\n",
      "2. izlases standartnovirze ir: 5.76\n",
      "Aprēķinātā t vērtība t=3.514\n",
      "Aprēķinātā p vērtība p=0.001\n",
      "H0 tiek noraidīts - 1. kursa studentu asinsspiediens nav statistiksi vienāds ar vispārējo vidējo\n"
     ]
    }
   ],
   "source": [
    "# Tiek definēts masīvs ar visām mērījumu vērtībām izlasēm\n",
    "asinssp_1=[128, 127, 118, 115, 144, 142, 133, 140, 132, 131, 111, 132, 149, 122, 139, 119, 136, 129, 126, 128]\n",
    "asinssp_2=[118, 115, 112, 120, 124, 130, 123, 110, 120, 121, 123, 125, 129, 130, 112, 117, 119, 120, 123, 128]\n",
    "\n",
    "#Vidējā vērtība un standartnovirze izlasei\n",
    "print(\"1. izlases vidējā vērtība ir: %.2f\" % np.mean(asinssp_1))\n",
    "print(\"1. izlases standartnovirze ir: %.2f\" % np.std(asinssp_1))\n",
    "print(\"2. izlases vidējā vērtība ir: %.2f\" % np.mean(asinssp_2))\n",
    "print(\"2. izlases standartnovirze ir: %.2f\" % np.std(asinssp_2))\n",
    "\n",
    "# T-tests izlasei uz ģenerālkopas vērtību\n",
    "tvalue, pvalue = stats.ttest_ind(asinssp_1, asinssp_2)\n",
    "print('Aprēķinātā t vērtība t=%.3f' % tvalue)\n",
    "print(\"Aprēķinātā p vērtība p=%.3f\" % pvalue)\n",
    "\n",
    "#Pārbaude vai aprēķinātā p vērtība atrodas nozīmības līmeņa 0.05 robežās un vai hipotēze tiek apstiprināta\n",
    "if (pvalue>=0.05):\n",
    "    print(\"H0 tiek apstiprināta - 1. kursa studentu asinsspiediens ir statistiski vienāds ar vispārējo vidējo\")\n",
    "else:\n",
    "    print (\"H0 tiek noraidīts - 1. kursa studentu asinsspiediens nav statistiksi vienāds ar vispārējo vidējo\")"
   ]
  },
  {
   "cell_type": "markdown",
   "metadata": {},
   "source": [
    "Salīzinot abus gadījumus var secināt, ka veiktie aprēķini ir pareizi.\n",
    "## 5. Chi kvadrāta tests izlases sadalījumam (sadalījumu testa grupa)\n",
    "Ar chi-kvadrāta kritēriju salīdzina savā starpā 2 sadalījumus. Visbiežāk reālo sadalījumu ar teorētisko, lai noskaidrotu, vai teorētiskais sadalījums ir labs reālā sadalījuma modelis. Sadalījuma testus lieto, kad nav normālsadalījums un nevar salīdzināt vidējos aritmētiskos – var salīdzināt tikai pašus sadalījumus.\n",
    "Nulles hipotēze:<br>\n",
    "$H_0$ : Izlases un teorētiskie sadalījumi ir vienādi<br>\n",
    "Un alternatīvā hipotēze:<br>\n",
    "$H_a$ : Izlases un teorētiskie sadalījumi nav vienādi<br>"
   ]
  },
  {
   "cell_type": "markdown",
   "metadata": {},
   "source": [
    "## 6. Manna-Vitnijas sadalījumu tests 2 neatkarīgām izlasēm (sadalījuma testu grupa)\n",
    "Ar šī testa palīdzību pārbauda hipotēzi par 2 neatkarīgu izlašu piederību vienai ģenerālajai kopai.\n",
    "Metodi var lietot arī intervālu un kārtas skalas datiem, ja abu izlašu dispersijas ir vienādas.\n",
    "Nulles hipotēze:<br>\n",
    "$H_0$ : Sadalījumi abās izlasēs ir vidēji vienādi<br>\n",
    "Un alternatīvā hipotēze:<br>\n",
    "$H_a$ : Sadalījumi abās izlasēs vidēji nav vienādi<br>\n",
    "$U_i=n_1n_2+n_i(n_i+1)/2-R_i$, kur $R_i=\\sum{R_{ij}}$"
   ]
  },
  {
   "cell_type": "markdown",
   "metadata": {},
   "source": [
    "## 7. Chi kvadrāta tests neatkarības noteikšanai nominālās vai kārtas skalas mainīgajiem\n",
    "Nosaka, vai 2 raksturlielumi ir neatkarīgi (statistiski nesaistīti) vai ir savtarpēji atkarīgi (statistiski\n",
    "saistīti).<br>\n",
    "Nulles hipotēze:\n",
    "$H_0$ : 1. izlase un 2.izlase ir neatkarīgi lielumi<br>\n",
    "Un alternatīvā hipotēze:\n",
    "$H_a$ : 1. izlase un 2.izlase ir savstarpēji saistīti lielumi<br>\n",
    "Darba gaita veicot chi kvadrāta neatkarības testu:<br>\n",
    "1. Izvirza hipotēzes $H_0$ un $H_a$\n",
    "2. Nosaka brīvības pakāpes $d_f = (r-1)\\times(k-1)$, kur r – rindu skaits, k – kolonnu skaits\n",
    "3. No $d_f$ un nozīmības līmeņa $\\alpha$ nosaka kritiskās robežas no Chi kvadrāta tabulām\n",
    "4. Katram parametra rēķina sagaidāmās vērtības $f_e=\\frac{f_r\\times f_k}{n}$, kur \n",
    "    - $f_e$ – sagaidāmā vērtība\n",
    "    - $f_r$ – kopējais daudzums rindās\n",
    "    - $f_k$ – kopējais daudzums kolonnās\n",
    "    - $n$ – kopējais daudzums\n",
    "5. Aprēķina Chi kvadrāta vērtību $\\chi^2=\\sum_{i=1}^k{\\frac{(f_i-f_{ei})^2}{f_{ei}}}$\n",
    "6. Ja pārbaudāmā vērtība atrodas kritiskajās robežās, tad $H_0$ apstiprinās pie noteiktā nozīmības līmeņa, pretējā gadījumā tiek noraidīta."
   ]
  },
  {
   "cell_type": "markdown",
   "metadata": {},
   "source": [
    "**Piemērs.** Eksperimentā tika pētīts viedierīču lietojums (mobilie telefoni, galda datori un planšetdatori) studentu vidū un skolēnu vidū. Iegūtie rezultāti ir atspoguļoti tabulā:\n",
    "\n",
    "||Datori|Mobilie|Planšetdatori|Kopā|\n",
    "|---|---|---|---|---|\n",
    "|Studenti|30864|11439|9887|52190|\n",
    "|Skolēni|14452|4073|4285|22810|\n",
    "|Kopā|45316|15512|14172|75000|\n",
    "\n",
    "Noskaidrot vai viedierīču lietojums grupās ir statistiski vienāds.<br>\n",
    "<u>Atrisinājums:</u><br>\n",
    "1) Hipotēzes:<br>\n",
    "    - $H_0:$ Studentu un skolēnu grupas nav saistītas - viedierīču lietojums grupās ir statistiski atšķirīgs<br>\n",
    "    - $H_a:$ Studentu un skolēnu grupas ir savstarpēji saistītas - viedierīču lietojums grupās ir statistiski vienāds<br>\n",
    "2) Brīvības pakāpes $d_f=(2-1)(3-1)=2$<br>\n",
    "3) Kritiskās robežas pie nozīmības līmeņa $\\alpha=0.025$ $\\chi_{kr}^2=7.378$ un $\\alpha=0.975$ $\\chi_{kr}^2=0.051$<br>\n",
    "4) Sagaidāmās vērtības:\n",
    "\n",
    "||Datori|Mobilie|Planšetdatori|\n",
    "|---|---|---|---|\n",
    "|Studenti|31534|10794|9862|\n",
    "|Skolēni|13782|4718|4310|\n",
    "\n",
    "5) Aprēķina Chi kvadrāta vērtību $\\chi^2=\\frac{(30864-31534)^2}{31534}+\\frac{(11439-10794)^2}{10794}+\\frac{(9887-9862)^2}{9862}+\\frac{(14452-13782)^2}{13782}+\\frac{(4073-4718)^2}{4718}+\\frac{(4285-4310)^2}{4310}=174$<br>\n",
    "6) Tā kā $174>7.378$, tad $H_0$ tiek noraidīta un apstiprinās $H_a$ - viedierīču lietojums studentu un skolēnu grupā ir savstarpēji saistīts.\n",
    "\n",
    "Zemāk aprēķinu salīdzināšanai ir veikts chi kvadrāta neatkarības testa aprēķins ar Python moduli *scipy*."
   ]
  },
  {
   "cell_type": "code",
   "execution_count": 81,
   "metadata": {},
   "outputs": [
    {
     "name": "stdout",
     "output_type": "stream",
     "text": [
      "Aprēķinātā chi kvadrāta vērtība ir 173.62\n",
      "Aprēķinātās brīvības pakāpes df=2\n",
      "Aprēķinātās sagaidāmās vērtības ir:\n",
      "[[31533.89386667 10794.28373333  9861.8224    ]\n",
      " [13782.10613333  4717.71626667  4310.1776    ]]\n",
      "H0 tiek noraidīts - izlases ir savstarpēji saistītas\n"
     ]
    }
   ],
   "source": [
    "# Tiek izveidots 2-dimensiju datu masīvs no iegūtajiem datiem\n",
    "obs = np.array([[30864, 11439, 9887], [14452, 4073,4285]])\n",
    "\n",
    "# Chi kvadrāta neatkarības tests\n",
    "chi2, pvalue, dof, expected = stats.chi2_contingency(obs)\n",
    "\n",
    "print(\"Aprēķinātā chi kvadrāta vērtība ir %.2f\" % chi2)\n",
    "print(\"Aprēķinātās brīvības pakāpes df=%.0f\" % dof)\n",
    "print(\"Aprēķinātās sagaidāmās vērtības ir:\")\n",
    "print(expected)\n",
    "\n",
    "#Pārbaude vai aprēķinātā p vērtība atrodas nozīmības līmeņa 0.05 robežās un vai hipotēze tiek apstiprināta\n",
    "if (pvalue>=0.05):\n",
    "    print(\"H0 tiek apstiprināta - izlases ir neatkarīgas\")\n",
    "else:\n",
    "    print (\"H0 tiek noraidīts - izlases ir savstarpēji saistītas\")"
   ]
  },
  {
   "cell_type": "code",
   "execution_count": null,
   "metadata": {},
   "outputs": [],
   "source": []
  }
 ],
 "metadata": {
  "kernelspec": {
   "display_name": "Python 3",
   "language": "python",
   "name": "python3"
  },
  "language_info": {
   "codemirror_mode": {
    "name": "ipython",
    "version": 3
   },
   "file_extension": ".py",
   "mimetype": "text/x-python",
   "name": "python",
   "nbconvert_exporter": "python",
   "pygments_lexer": "ipython3",
   "version": "3.8.1"
  }
 },
 "nbformat": 4,
 "nbformat_minor": 4
}
